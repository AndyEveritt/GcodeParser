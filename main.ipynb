{
 "cells": [
  {
   "cell_type": "code",
   "execution_count": 1,
   "metadata": {},
   "outputs": [],
   "source": [
    "from gcodeparser import GcodeParser, GcodeLine"
   ]
  },
  {
   "cell_type": "code",
   "execution_count": 96,
   "metadata": {},
   "outputs": [
    {
     "data": {
      "text/plain": [
       "[GcodeLine(command=('M', 552), params={'P': '01.0.0.0', 'S': 1}, comment=''),\n",
       " GcodeLine(command=('M', 550), params={'P': '\"ForceRig; \"'}, comment=''),\n",
       " GcodeLine(command=('G', 21), params={'P': 0}, comment=''),\n",
       " GcodeLine(command=('G', 1), params={'X': 10}, comment=''),\n",
       " GcodeLine(command=('G', 1), params={'Z': -0.5, 'F': 600.0}, comment=''),\n",
       " GcodeLine(command=('G', 1), params={'X': 150.78, 'Y': 88.675, 'F': 9000.0}, comment=''),\n",
       " GcodeLine(command=('G', 1), params={'Z': 0.2, 'F': 600.0}, comment=''),\n",
       " GcodeLine(command=('G', 1), params={'E': 0.8, 'F': 6000.0}, comment=''),\n",
       " GcodeLine(command=('G', 1), params={'X': 152.506, 'Y': 88.828, 'E': 0.0692, 'F': 2400.0}, comment=''),\n",
       " GcodeLine(command=('G', 1), params={'X': 152.642, 'Y': 88.846, 'E': 0.0055}, comment=''),\n",
       " GcodeLine(command=('M', 116), params={}, comment='wait for temps to settle'),\n",
       " GcodeLine(command=('T', 0), params={}, comment=''),\n",
       " GcodeLine(command=('G', 90), params={}, comment=''),\n",
       " GcodeLine(command=('M', 83), params={}, comment='')]"
      ]
     },
     "execution_count": 96,
     "metadata": {},
     "output_type": "execute_result"
    }
   ],
   "source": [
    "with open('3DBenchy.gcode', 'r') as f:\n",
    "    gcode = f.read()\n",
    "parsed_gcode = GcodeParser(gcode)\n",
    "parsed_gcode.lines[0:14]"
   ]
  },
  {
   "cell_type": "code",
   "execution_count": 95,
   "metadata": {},
   "outputs": [
    {
     "data": {
      "text/plain": [
       "{'Y': 88.675, 'F': 9000.0}"
      ]
     },
     "execution_count": 95,
     "metadata": {},
     "output_type": "execute_result"
    }
   ],
   "source": [
    "parsed_gcode.lines[5].params"
   ]
  },
  {
   "cell_type": "code",
   "execution_count": 82,
   "metadata": {},
   "outputs": [
    {
     "name": "stdout",
     "output_type": "stream",
     "text": [
      "('', '', '', '', '', '', '', '', 'Networking')\n",
      "('M', '552', ' P0.0.0.0 S1', ' S1', '1', '1', '', '', '')\n",
      "('M', '550', ' P\"ForceRig; \"', ' P\"ForceRig; \"', '\"ForceRig; \"', '', '', '', '')\n",
      "('', '', '', '', '', '', '', '', 'General preferences')\n",
      "('G', '21', '', '', '', '', '', '', '')\n",
      "('G', '1', ' X10', ' X10', '10', '10', '', '', '')\n",
      "('G', '1', ' Z-0.500 F600', ' F600', '600', '600', '', '', '')\n",
      "('G', '1', ' X150.780 Y88.675 F9000', ' F9000', '9000', '9000', '', '', '')\n",
      "('G', '1', ' Z0.200 F600', ' F600', '600', '600', '', '', '')\n",
      "('G', '1', ' E0.8000 F6000', ' F6000', '6000', '6000', '', '', '')\n",
      "('G', '1', ' X152.506 Y88.828 E0.0692 F2400', ' F2400', '2400', '2400', '', '', '')\n",
      "('G', '1', ' X152.642 Y88.846 E0.0055', ' E0.0055', '0.0055', '0.0055', '', '', '')\n",
      "('M', '116', '', '', '', '', '; wait for temps to settle', 'wait for temps to settle', '')\n",
      "('T', '0', '', '', '', '', '', '', '')\n"
     ]
    }
   ],
   "source": [
    "import re\n",
    "\n",
    "regex = r'(?!; *.+)(G|M|T|g|m|t)(\\d+)(( *(?!G|M|g|m)\\w(((-?\\d+\\.?)*)|\".*\"))*) *\\t*(; *(.*))?|; *(.+)'\n",
    "regex = r'(?!; *.+)(G|M|T|g|m|t)(\\d+)(( *(?!G|M|g|m)\\w(\".*\"|([-\\d\\.]*)))*) *\\t*(; *(.*))?|; *(.+)'\n",
    "# regex = r'(?!; *.+)(G|M|T|g|m|t)(\\d+)( *(?!G|M|g|m)[^;\\n]*) *\\t*(; *\\t*(.*))?|; *(.+)'\n",
    "regex_lines = re.findall(regex, gcode)\n",
    "\n",
    "for line in regex_lines[0:14]:\n",
    "    print(line)\n",
    "    print(re.findall(r'((?!\\d)\\w+?)(\".*\"|(\\d+\\.?)+|-?\\d+\\.?\\d*)', line[2]))\n"
   ]
  }
 ],
 "metadata": {
  "kernelspec": {
   "display_name": "Python 3",
   "language": "python",
   "name": "python3"
  },
  "language_info": {
   "codemirror_mode": {
    "name": "ipython",
    "version": 3
   },
   "file_extension": ".py",
   "mimetype": "text/x-python",
   "name": "python",
   "nbconvert_exporter": "python",
   "pygments_lexer": "ipython3",
   "version": "3.7.6"
  },
  "orig_nbformat": 2
 },
 "nbformat": 4,
 "nbformat_minor": 2
}